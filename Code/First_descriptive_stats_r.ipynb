{
  "nbformat": 4,
  "nbformat_minor": 0,
  "metadata": {
    "colab": {
      "name": "First descriptive stats.ipynb",
      "provenance": [],
      "collapsed_sections": []
    },
    "kernelspec": {
      "name": "python3",
      "display_name": "Python 3"
    }
  },
  "cells": [
    {
      "cell_type": "code",
      "metadata": {
        "id": "PAX-iu5Zhjjb"
      },
      "source": [
        "import pandas as pd\r\n",
        "import numpy as np\r\n",
        "import matplotlib.pyplot as plt\r\n",
        "%matplotlib inline"
      ],
      "execution_count": null,
      "outputs": []
    },
    {
      "cell_type": "code",
      "metadata": {
        "colab": {
          "base_uri": "https://localhost:8080/",
          "height": 206
        },
        "id": "3y78Y2mkh-Wd",
        "outputId": "a26da61f-7c0e-45e6-f49d-fb2df06b93e9"
      },
      "source": [
        "# Import data\r\n",
        "df = pd.read_csv('https://raw.githubusercontent.com/dianakorka/Big-Scale-Predict-Difficulty-French-Text/main/Data/labelledData.csv', sep=\",\")\r\n",
        "df.head()"
      ],
      "execution_count": null,
      "outputs": [
        {
          "output_type": "execute_result",
          "data": {
            "text/html": [
              "<div>\n",
              "<style scoped>\n",
              "    .dataframe tbody tr th:only-of-type {\n",
              "        vertical-align: middle;\n",
              "    }\n",
              "\n",
              "    .dataframe tbody tr th {\n",
              "        vertical-align: top;\n",
              "    }\n",
              "\n",
              "    .dataframe thead th {\n",
              "        text-align: right;\n",
              "    }\n",
              "</style>\n",
              "<table border=\"1\" class=\"dataframe\">\n",
              "  <thead>\n",
              "    <tr style=\"text-align: right;\">\n",
              "      <th></th>\n",
              "      <th>Text</th>\n",
              "      <th>Difficulty</th>\n",
              "    </tr>\n",
              "  </thead>\n",
              "  <tbody>\n",
              "    <tr>\n",
              "      <th>0</th>\n",
              "      <td>Je maîtrise le fonctionnement de ce logiciel, ...</td>\n",
              "      <td>B1</td>\n",
              "    </tr>\n",
              "    <tr>\n",
              "      <th>1</th>\n",
              "      <td>Une équipe médicale mène une étude sur la ciga...</td>\n",
              "      <td>B1</td>\n",
              "    </tr>\n",
              "    <tr>\n",
              "      <th>2</th>\n",
              "      <td>Je vois bien l'intérêt de cet appareil, mais j...</td>\n",
              "      <td>B1</td>\n",
              "    </tr>\n",
              "    <tr>\n",
              "      <th>3</th>\n",
              "      <td>Ils auraient très vite envie de partir en voya...</td>\n",
              "      <td>B1</td>\n",
              "    </tr>\n",
              "    <tr>\n",
              "      <th>4</th>\n",
              "      <td>Nous somment conscients de la difficulté de l'...</td>\n",
              "      <td>B1</td>\n",
              "    </tr>\n",
              "  </tbody>\n",
              "</table>\n",
              "</div>"
            ],
            "text/plain": [
              "                                                Text Difficulty\n",
              "0  Je maîtrise le fonctionnement de ce logiciel, ...         B1\n",
              "1  Une équipe médicale mène une étude sur la ciga...         B1\n",
              "2  Je vois bien l'intérêt de cet appareil, mais j...         B1\n",
              "3  Ils auraient très vite envie de partir en voya...         B1\n",
              "4  Nous somment conscients de la difficulté de l'...         B1"
            ]
          },
          "metadata": {
            "tags": []
          },
          "execution_count": 12
        }
      ]
    },
    {
      "cell_type": "code",
      "metadata": {
        "colab": {
          "base_uri": "https://localhost:8080/"
        },
        "id": "QZJQ_JXJlotF",
        "outputId": "91856a7a-c9b5-403a-8ac6-807f5f1df15c"
      },
      "source": [
        "df.groupby('Difficulty').count().Text"
      ],
      "execution_count": null,
      "outputs": [
        {
          "output_type": "execute_result",
          "data": {
            "text/plain": [
              "Difficulty\n",
              "A1    174\n",
              "A2    181\n",
              "B1    151\n",
              "B2     88\n",
              "C1    304\n",
              "C2    102\n",
              "Name: Text, dtype: int64"
            ]
          },
          "metadata": {
            "tags": []
          },
          "execution_count": 13
        }
      ]
    },
    {
      "cell_type": "code",
      "metadata": {
        "colab": {
          "base_uri": "https://localhost:8080/",
          "height": 265
        },
        "id": "FwBvZrmNk2Ly",
        "outputId": "1f971757-8679-417d-f029-07c604e02a45"
      },
      "source": [
        "plt.plot(df.groupby('Difficulty').count().Text);"
      ],
      "execution_count": null,
      "outputs": [
        {
          "output_type": "display_data",
          "data": {
            "image/png": "[encoded data removed]",
            "text/plain": [
              "<Figure size 432x288 with 1 Axes>"
            ]
          },
          "metadata": {
            "tags": [],
            "needs_background": "light"
          }
        }
      ]
    },
    {
      "cell_type": "code",
      "metadata": {
        "id": "i4hzf3OZm5uX"
      },
      "source": [
        "import seaborn as sns\r\n"
      ],
      "execution_count": null,
      "outputs": []
    },
    {
      "cell_type": "code",
      "metadata": {
        "colab": {
          "base_uri": "https://localhost:8080/"
        },
        "id": "EiFMf5LLm-6w",
        "outputId": "d2f0b073-b30b-4ad7-aa1a-dcb5f589a5ea"
      },
      "source": [
        "df.shape"
      ],
      "execution_count": null,
      "outputs": [
        {
          "output_type": "execute_result",
          "data": {
            "text/plain": [
              "(1000, 2)"
            ]
          },
          "metadata": {
            "tags": []
          },
          "execution_count": 16
        }
      ]
    },
    {
      "cell_type": "code",
      "metadata": {
        "colab": {
          "base_uri": "https://localhost:8080/",
          "height": 206
        },
        "id": "MsCB4ukcn1km",
        "outputId": "85c35ebf-bf0c-4921-d69c-b014f8751544"
      },
      "source": [
        "df[df.duplicated() == True]"
      ],
      "execution_count": null,
      "outputs": [
        {
          "output_type": "execute_result",
          "data": {
            "text/html": [
              "<div>\n",
              "<style scoped>\n",
              "    .dataframe tbody tr th:only-of-type {\n",
              "        vertical-align: middle;\n",
              "    }\n",
              "\n",
              "    .dataframe tbody tr th {\n",
              "        vertical-align: top;\n",
              "    }\n",
              "\n",
              "    .dataframe thead th {\n",
              "        text-align: right;\n",
              "    }\n",
              "</style>\n",
              "<table border=\"1\" class=\"dataframe\">\n",
              "  <thead>\n",
              "    <tr style=\"text-align: right;\">\n",
              "      <th></th>\n",
              "      <th>Text</th>\n",
              "      <th>Difficulty</th>\n",
              "    </tr>\n",
              "  </thead>\n",
              "  <tbody>\n",
              "    <tr>\n",
              "      <th>375</th>\n",
              "      <td>L’accident a provoqué une fuite de 15 000 tonn...</td>\n",
              "      <td>B1</td>\n",
              "    </tr>\n",
              "    <tr>\n",
              "      <th>378</th>\n",
              "      <td>L’usine appartient au groupe Norilsk Nickel, l...</td>\n",
              "      <td>A2</td>\n",
              "    </tr>\n",
              "    <tr>\n",
              "      <th>410</th>\n",
              "      <td>Mais selon les autorités, la progression des h...</td>\n",
              "      <td>A2</td>\n",
              "    </tr>\n",
              "    <tr>\n",
              "      <th>630</th>\n",
              "      <td>La prof de sciences est absente demain.</td>\n",
              "      <td>A1</td>\n",
              "    </tr>\n",
              "    <tr>\n",
              "      <th>908</th>\n",
              "      <td>Jeune retraité de l’éducation nationale, Roger...</td>\n",
              "      <td>C2</td>\n",
              "    </tr>\n",
              "  </tbody>\n",
              "</table>\n",
              "</div>"
            ],
            "text/plain": [
              "                                                  Text Difficulty\n",
              "375  L’accident a provoqué une fuite de 15 000 tonn...         B1\n",
              "378  L’usine appartient au groupe Norilsk Nickel, l...         A2\n",
              "410  Mais selon les autorités, la progression des h...         A2\n",
              "630            La prof de sciences est absente demain.         A1\n",
              "908  Jeune retraité de l’éducation nationale, Roger...         C2"
            ]
          },
          "metadata": {
            "tags": []
          },
          "execution_count": 17
        }
      ]
    },
    {
      "cell_type": "code",
      "metadata": {
        "colab": {
          "base_uri": "https://localhost:8080/"
        },
        "id": "vbJy7sfmpXE5",
        "outputId": "b63331b4-b295-43fe-8578-5d17c46b907f"
      },
      "source": [
        "df.Text.unique().shape"
      ],
      "execution_count": null,
      "outputs": [
        {
          "output_type": "execute_result",
          "data": {
            "text/plain": [
              "(995,)"
            ]
          },
          "metadata": {
            "tags": []
          },
          "execution_count": 18
        }
      ]
    },
    {
      "cell_type": "markdown",
      "metadata": {
        "id": "-cztuoGN5uL7"
      },
      "source": [
        "We discovered we have 5 duplicates, so we added more sentences to our dataset of the B2 level, which is the least well represented one."
      ]
    },
    {
      "cell_type": "code",
      "metadata": {
        "colab": {
          "base_uri": "https://localhost:8080/",
          "height": 206
        },
        "id": "LVWOaUX-p41K",
        "outputId": "620e491b-172c-4b41-98af-96bad5d57c3e"
      },
      "source": [
        "df['Length'] = df.Text.str.len()\r\n",
        "df.head()"
      ],
      "execution_count": null,
      "outputs": [
        {
          "output_type": "execute_result",
          "data": {
            "text/html": [
              "<div>\n",
              "<style scoped>\n",
              "    .dataframe tbody tr th:only-of-type {\n",
              "        vertical-align: middle;\n",
              "    }\n",
              "\n",
              "    .dataframe tbody tr th {\n",
              "        vertical-align: top;\n",
              "    }\n",
              "\n",
              "    .dataframe thead th {\n",
              "        text-align: right;\n",
              "    }\n",
              "</style>\n",
              "<table border=\"1\" class=\"dataframe\">\n",
              "  <thead>\n",
              "    <tr style=\"text-align: right;\">\n",
              "      <th></th>\n",
              "      <th>Text</th>\n",
              "      <th>Difficulty</th>\n",
              "      <th>Length</th>\n",
              "    </tr>\n",
              "  </thead>\n",
              "  <tbody>\n",
              "    <tr>\n",
              "      <th>0</th>\n",
              "      <td>Je maîtrise le fonctionnement de ce logiciel, ...</td>\n",
              "      <td>B1</td>\n",
              "      <td>84</td>\n",
              "    </tr>\n",
              "    <tr>\n",
              "      <th>1</th>\n",
              "      <td>Une équipe médicale mène une étude sur la ciga...</td>\n",
              "      <td>B1</td>\n",
              "      <td>104</td>\n",
              "    </tr>\n",
              "    <tr>\n",
              "      <th>2</th>\n",
              "      <td>Je vois bien l'intérêt de cet appareil, mais j...</td>\n",
              "      <td>B1</td>\n",
              "      <td>68</td>\n",
              "    </tr>\n",
              "    <tr>\n",
              "      <th>3</th>\n",
              "      <td>Ils auraient très vite envie de partir en voya...</td>\n",
              "      <td>B1</td>\n",
              "      <td>83</td>\n",
              "    </tr>\n",
              "    <tr>\n",
              "      <th>4</th>\n",
              "      <td>Nous somment conscients de la difficulté de l'...</td>\n",
              "      <td>B1</td>\n",
              "      <td>89</td>\n",
              "    </tr>\n",
              "  </tbody>\n",
              "</table>\n",
              "</div>"
            ],
            "text/plain": [
              "                                                Text Difficulty  Length\n",
              "0  Je maîtrise le fonctionnement de ce logiciel, ...         B1      84\n",
              "1  Une équipe médicale mène une étude sur la ciga...         B1     104\n",
              "2  Je vois bien l'intérêt de cet appareil, mais j...         B1      68\n",
              "3  Ils auraient très vite envie de partir en voya...         B1      83\n",
              "4  Nous somment conscients de la difficulté de l'...         B1      89"
            ]
          },
          "metadata": {
            "tags": []
          },
          "execution_count": 19
        }
      ]
    },
    {
      "cell_type": "code",
      "metadata": {
        "colab": {
          "base_uri": "https://localhost:8080/",
          "height": 295
        },
        "id": "6J6ccGHmqvZb",
        "outputId": "521b4389-4cba-4b71-bbce-e4145960c07f"
      },
      "source": [
        "sns.boxplot(x='Difficulty', y='Length', data=df, order=['A1', 'A2', 'B1', 'B2', 'C1', 'C2'])\r\n",
        "plt.title('Distribution of sentence character length by level of difficulty');"
      ],
      "execution_count": null,
      "outputs": [
        {
          "output_type": "display_data",
          "data": {
            "image/png": "[encoded data removed]",
            "text/plain": [
              "<Figure size 432x288 with 1 Axes>"
            ]
          },
          "metadata": {
            "tags": [],
            "needs_background": "light"
          }
        }
      ]
    },
    {
      "cell_type": "code",
      "metadata": {
        "id": "_d6E38bJxEoZ"
      },
      "source": [
        "df['totalwords'] = df['Text'].str.split().str.len()"
      ],
      "execution_count": null,
      "outputs": []
    },
    {
      "cell_type": "code",
      "metadata": {
        "colab": {
          "base_uri": "https://localhost:8080/",
          "height": 206
        },
        "id": "5xFh0KyNxfWH",
        "outputId": "a4e8486b-a861-4ccd-dd8f-e00a75c1fa7a"
      },
      "source": [
        "df.head()"
      ],
      "execution_count": null,
      "outputs": [
        {
          "output_type": "execute_result",
          "data": {
            "text/html": [
              "<div>\n",
              "<style scoped>\n",
              "    .dataframe tbody tr th:only-of-type {\n",
              "        vertical-align: middle;\n",
              "    }\n",
              "\n",
              "    .dataframe tbody tr th {\n",
              "        vertical-align: top;\n",
              "    }\n",
              "\n",
              "    .dataframe thead th {\n",
              "        text-align: right;\n",
              "    }\n",
              "</style>\n",
              "<table border=\"1\" class=\"dataframe\">\n",
              "  <thead>\n",
              "    <tr style=\"text-align: right;\">\n",
              "      <th></th>\n",
              "      <th>Text</th>\n",
              "      <th>Difficulty</th>\n",
              "      <th>Length</th>\n",
              "      <th>totalwords</th>\n",
              "    </tr>\n",
              "  </thead>\n",
              "  <tbody>\n",
              "    <tr>\n",
              "      <th>0</th>\n",
              "      <td>Je maîtrise le fonctionnement de ce logiciel, ...</td>\n",
              "      <td>B1</td>\n",
              "      <td>84</td>\n",
              "      <td>14</td>\n",
              "    </tr>\n",
              "    <tr>\n",
              "      <th>1</th>\n",
              "      <td>Une équipe médicale mène une étude sur la ciga...</td>\n",
              "      <td>B1</td>\n",
              "      <td>104</td>\n",
              "      <td>17</td>\n",
              "    </tr>\n",
              "    <tr>\n",
              "      <th>2</th>\n",
              "      <td>Je vois bien l'intérêt de cet appareil, mais j...</td>\n",
              "      <td>B1</td>\n",
              "      <td>68</td>\n",
              "      <td>13</td>\n",
              "    </tr>\n",
              "    <tr>\n",
              "      <th>3</th>\n",
              "      <td>Ils auraient très vite envie de partir en voya...</td>\n",
              "      <td>B1</td>\n",
              "      <td>83</td>\n",
              "      <td>16</td>\n",
              "    </tr>\n",
              "    <tr>\n",
              "      <th>4</th>\n",
              "      <td>Nous somment conscients de la difficulté de l'...</td>\n",
              "      <td>B1</td>\n",
              "      <td>89</td>\n",
              "      <td>14</td>\n",
              "    </tr>\n",
              "  </tbody>\n",
              "</table>\n",
              "</div>"
            ],
            "text/plain": [
              "                                                Text  ... totalwords\n",
              "0  Je maîtrise le fonctionnement de ce logiciel, ...  ...         14\n",
              "1  Une équipe médicale mène une étude sur la ciga...  ...         17\n",
              "2  Je vois bien l'intérêt de cet appareil, mais j...  ...         13\n",
              "3  Ils auraient très vite envie de partir en voya...  ...         16\n",
              "4  Nous somment conscients de la difficulté de l'...  ...         14\n",
              "\n",
              "[5 rows x 4 columns]"
            ]
          },
          "metadata": {
            "tags": []
          },
          "execution_count": 22
        }
      ]
    },
    {
      "cell_type": "code",
      "metadata": {
        "colab": {
          "base_uri": "https://localhost:8080/",
          "height": 295
        },
        "id": "4YrSN4m2xh3w",
        "outputId": "e466a2ec-3c6b-41c0-9274-6addb93e143a"
      },
      "source": [
        "sns.boxplot(x='Difficulty', y='totalwords', data=df, order=['A1', 'A2', 'B1', 'B2', 'C1', 'C2'])\r\n",
        "plt.title('Distribution of number of words by level of difficulty');"
      ],
      "execution_count": null,
      "outputs": [
        {
          "output_type": "display_data",
          "data": {
            "image/png": "[encoded data removed]",
            "text/plain": [
              "<Figure size 432x288 with 1 Axes>"
            ]
          },
          "metadata": {
            "tags": [],
            "needs_background": "light"
          }
        }
      ]
    },
    {
      "cell_type": "code",
      "metadata": {
        "colab": {
          "base_uri": "https://localhost:8080/"
        },
        "id": "v_XLXuaW4cCY",
        "outputId": "684df2df-c701-4854-c1d0-a933d0e512e9"
      },
      "source": [
        "!pip install wordstats"
      ],
      "execution_count": null,
      "outputs": [
        {
          "output_type": "stream",
          "text": [
            "Requirement already satisfied: wordstats in /usr/local/lib/python3.7/dist-packages (1.0.7)\n",
            "Requirement already satisfied: configobj in /usr/local/lib/python3.7/dist-packages (from wordstats) (5.0.6)\n",
            "Requirement already satisfied: sqlalchemy in /usr/local/lib/python3.7/dist-packages (from wordstats) (1.3.23)\n",
            "Requirement already satisfied: six in /usr/local/lib/python3.7/dist-packages (from configobj->wordstats) (1.15.0)\n"
          ],
          "name": "stdout"
        }
      ]
    },
    {
      "cell_type": "code",
      "metadata": {
        "colab": {
          "base_uri": "https://localhost:8080/"
        },
        "id": "hNhDBH5t4zwb",
        "outputId": "c6bf0209-f236-4dac-efe0-49c307bafcd5"
      },
      "source": [
        "# Formulla for generating cognates\r\n",
        "from wordstats import LanguageInfo\r\n",
        "from wordstats.common_words import common_words\r\n",
        "French = LanguageInfo.load(\"fr\")\r\n",
        "English = LanguageInfo.load(\"en\")\r\n",
        "for each in French.all_words():\r\n",
        "    if each in English.all_words():\r\n",
        "        if len(each) > 10 and each not in common_words():\r\n",
        "             print(each)"
      ],
      "execution_count": null,
      "outputs": [
        {
          "output_type": "stream",
          "text": [
            "mademoiselle\n",
            "conversation\n",
            "intelligent\n",
            "information\n",
            "surveillance\n",
            "proposition\n",
            "imagination\n",
            "communication\n",
            "instructions\n",
            "intelligence\n",
            "intervention\n",
            "thanksgiving\n",
            "destruction\n",
            "association\n",
            "construction\n",
            "arrangement\n",
            "administration\n",
            "accusations\n",
            "destination\n",
            "description\n",
            "catastrophe\n",
            "afghanistan\n",
            "conversations\n",
            "international\n",
            "identification\n",
            "inspiration\n",
            "transmission\n",
            "observation\n",
            "confirmation\n",
            "shakespeare\n",
            "performance\n",
            "concentration\n",
            "immigration\n",
            "communications\n",
            "instruments\n",
            "compliments\n",
            "conclusions\n",
            "alternative\n",
            "constitution\n",
            "perspective\n",
            "restaurants\n",
            "distribution\n",
            "satisfaction\n",
            "respectable\n",
            "humiliation\n",
            "application\n",
            "frankenstein\n",
            "contribution\n",
            "prostitution\n",
            "distraction\n",
            "institution\n",
            "complications\n",
            "sentimental\n",
            "transformation\n"
          ],
          "name": "stdout"
        }
      ]
    },
    {
      "cell_type": "code",
      "metadata": {
        "colab": {
          "base_uri": "https://localhost:8080/"
        },
        "id": "TToap_rs9nLG",
        "outputId": "b43f4a2b-3c6c-40f4-b5da-5064781b6738"
      },
      "source": [
        "import spacy\r\n",
        "!pip install spacy-readability\r\n",
        "from spacy_readability import Readability"
      ],
      "execution_count": 28,
      "outputs": [
        {
          "output_type": "stream",
          "text": [
            "Collecting spacy-readability\n",
            "\u001b[?25l  Downloading https://files.pythonhosted.org/packages/68/9e/e8d9cdf0d54fa5fa0c6463bc6d0385c37deb5dc65a4cfe2c612a02a06869/spacy_readability-1.4.1-py3-none-any.whl (49kB)\n",
            "\r\u001b[K     |██████▋                         | 10kB 14.1MB/s eta 0:00:01\r\u001b[K     |█████████████▏                  | 20kB 12.2MB/s eta 0:00:01\r\u001b[K     |███████████████████▊            | 30kB 8.3MB/s eta 0:00:01\r\u001b[K     |██████████████████████████▎     | 40kB 7.7MB/s eta 0:00:01\r\u001b[K     |████████████████████████████████| 51kB 2.8MB/s \n",
            "\u001b[?25hRequirement already satisfied: spacy<3.0,>=2.0 in /usr/local/lib/python3.7/dist-packages (from spacy-readability) (2.2.4)\n",
            "Collecting syllapy<1,>=0\n",
            "  Downloading https://files.pythonhosted.org/packages/11/31/e13c6b0ed7a95f46c3af20df2b995877ea179b88a90ec39122e0621dae08/syllapy-0.7.1-py3-none-any.whl\n",
            "Requirement already satisfied: blis<0.5.0,>=0.4.0 in /usr/local/lib/python3.7/dist-packages (from spacy<3.0,>=2.0->spacy-readability) (0.4.1)\n",
            "Requirement already satisfied: cymem<2.1.0,>=2.0.2 in /usr/local/lib/python3.7/dist-packages (from spacy<3.0,>=2.0->spacy-readability) (2.0.5)\n",
            "Requirement already satisfied: srsly<1.1.0,>=1.0.2 in /usr/local/lib/python3.7/dist-packages (from spacy<3.0,>=2.0->spacy-readability) (1.0.5)\n",
            "Requirement already satisfied: tqdm<5.0.0,>=4.38.0 in /usr/local/lib/python3.7/dist-packages (from spacy<3.0,>=2.0->spacy-readability) (4.41.1)\n",
            "Requirement already satisfied: setuptools in /usr/local/lib/python3.7/dist-packages (from spacy<3.0,>=2.0->spacy-readability) (54.0.0)\n",
            "Requirement already satisfied: numpy>=1.15.0 in /usr/local/lib/python3.7/dist-packages (from spacy<3.0,>=2.0->spacy-readability) (1.19.5)\n",
            "Requirement already satisfied: thinc==7.4.0 in /usr/local/lib/python3.7/dist-packages (from spacy<3.0,>=2.0->spacy-readability) (7.4.0)\n",
            "Requirement already satisfied: wasabi<1.1.0,>=0.4.0 in /usr/local/lib/python3.7/dist-packages (from spacy<3.0,>=2.0->spacy-readability) (0.8.2)\n",
            "Requirement already satisfied: plac<1.2.0,>=0.9.6 in /usr/local/lib/python3.7/dist-packages (from spacy<3.0,>=2.0->spacy-readability) (1.1.3)\n",
            "Requirement already satisfied: requests<3.0.0,>=2.13.0 in /usr/local/lib/python3.7/dist-packages (from spacy<3.0,>=2.0->spacy-readability) (2.23.0)\n",
            "Requirement already satisfied: murmurhash<1.1.0,>=0.28.0 in /usr/local/lib/python3.7/dist-packages (from spacy<3.0,>=2.0->spacy-readability) (1.0.5)\n",
            "Requirement already satisfied: preshed<3.1.0,>=3.0.2 in /usr/local/lib/python3.7/dist-packages (from spacy<3.0,>=2.0->spacy-readability) (3.0.5)\n",
            "Requirement already satisfied: catalogue<1.1.0,>=0.0.7 in /usr/local/lib/python3.7/dist-packages (from spacy<3.0,>=2.0->spacy-readability) (1.0.0)\n",
            "Collecting ujson<2.0,>=1.35\n",
            "\u001b[?25l  Downloading https://files.pythonhosted.org/packages/16/c4/79f3409bc710559015464e5f49b9879430d8f87498ecdc335899732e5377/ujson-1.35.tar.gz (192kB)\n",
            "\u001b[K     |████████████████████████████████| 194kB 8.5MB/s \n",
            "\u001b[?25hRequirement already satisfied: chardet<4,>=3.0.2 in /usr/local/lib/python3.7/dist-packages (from requests<3.0.0,>=2.13.0->spacy<3.0,>=2.0->spacy-readability) (3.0.4)\n",
            "Requirement already satisfied: urllib3!=1.25.0,!=1.25.1,<1.26,>=1.21.1 in /usr/local/lib/python3.7/dist-packages (from requests<3.0.0,>=2.13.0->spacy<3.0,>=2.0->spacy-readability) (1.24.3)\n",
            "Requirement already satisfied: idna<3,>=2.5 in /usr/local/lib/python3.7/dist-packages (from requests<3.0.0,>=2.13.0->spacy<3.0,>=2.0->spacy-readability) (2.10)\n",
            "Requirement already satisfied: certifi>=2017.4.17 in /usr/local/lib/python3.7/dist-packages (from requests<3.0.0,>=2.13.0->spacy<3.0,>=2.0->spacy-readability) (2020.12.5)\n",
            "Requirement already satisfied: importlib-metadata>=0.20; python_version < \"3.8\" in /usr/local/lib/python3.7/dist-packages (from catalogue<1.1.0,>=0.0.7->spacy<3.0,>=2.0->spacy-readability) (3.7.2)\n",
            "Requirement already satisfied: zipp>=0.5 in /usr/local/lib/python3.7/dist-packages (from importlib-metadata>=0.20; python_version < \"3.8\"->catalogue<1.1.0,>=0.0.7->spacy<3.0,>=2.0->spacy-readability) (3.4.1)\n",
            "Requirement already satisfied: typing-extensions>=3.6.4; python_version < \"3.8\" in /usr/local/lib/python3.7/dist-packages (from importlib-metadata>=0.20; python_version < \"3.8\"->catalogue<1.1.0,>=0.0.7->spacy<3.0,>=2.0->spacy-readability) (3.7.4.3)\n",
            "Building wheels for collected packages: ujson\n",
            "  Building wheel for ujson (setup.py) ... \u001b[?25l\u001b[?25hdone\n",
            "  Created wheel for ujson: filename=ujson-1.35-cp37-cp37m-linux_x86_64.whl size=68375 sha256=4d2c325a297e098586af54301b280b371011938936fceefe5cc2888296c1e3a6\n",
            "  Stored in directory: /root/.cache/pip/wheels/28/77/e4/0311145b9c2e2f01470e744855131f9e34d6919687550f87d1\n",
            "Successfully built ujson\n",
            "Installing collected packages: ujson, syllapy, spacy-readability\n",
            "Successfully installed spacy-readability-1.4.1 syllapy-0.7.1 ujson-1.35\n"
          ],
          "name": "stdout"
        }
      ]
    },
    {
      "cell_type": "code",
      "metadata": {
        "id": "1DqfooR299ug"
      },
      "source": [
        "nlp = spacy.load('en')\r\n",
        "read = Readability()\r\n",
        "nlp.add_pipe(read, last=True)"
      ],
      "execution_count": 36,
      "outputs": []
    },
    {
      "cell_type": "code",
      "metadata": {
        "colab": {
          "base_uri": "https://localhost:8080/"
        },
        "id": "nbchjXwW-Zu6",
        "outputId": "edb24543-2962-4372-f94e-2081432f0902"
      },
      "source": [
        "# Printing out Flesh-Kincaid grade level for the first sentence\r\n",
        "doc = nlp(df.Text[0])\r\n",
        "print(doc._.flesch_kincaid_grade_level)"
      ],
      "execution_count": 38,
      "outputs": [
        {
          "output_type": "stream",
          "text": [
            "8.541538461538462\n"
          ],
          "name": "stdout"
        }
      ]
    }
  ]
}