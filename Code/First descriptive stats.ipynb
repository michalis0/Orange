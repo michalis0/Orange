{
  "nbformat": 4,
  "nbformat_minor": 0,
  "metadata": {
    "colab": {
      "name": "Untitled4.ipynb",
      "provenance": []
    },
    "kernelspec": {
      "name": "python3",
      "display_name": "Python 3"
    }
  },
  "cells": [
    {
      "cell_type": "code",
      "metadata": {
        "id": "PAX-iu5Zhjjb"
      },
      "source": [
        "import pandas as pd\r\n",
        "import numpy as np\r\n",
        "import matplotlib.pyplot as plt\r\n",
        "%matplotlib inline"
      ],
      "execution_count": 1,
      "outputs": []
    },
    {
      "cell_type": "code",
      "metadata": {
        "colab": {
          "base_uri": "https://localhost:8080/",
          "height": 206
        },
        "id": "3y78Y2mkh-Wd",
        "outputId": "ea15ac49-3664-49af-b511-a73c12262c40"
      },
      "source": [
        "# Import data\r\n",
        "df = pd.read_csv('https://raw.githubusercontent.com/dianakorka/Big-Scale-Predict-Difficulty-French-Text/main/Data/labelledData.csv', sep=\",\")\r\n",
        "df.head()"
      ],
      "execution_count": 5,
      "outputs": [
        {
          "output_type": "execute_result",
          "data": {
            "text/html": [
              "<div>\n",
              "<style scoped>\n",
              "    .dataframe tbody tr th:only-of-type {\n",
              "        vertical-align: middle;\n",
              "    }\n",
              "\n",
              "    .dataframe tbody tr th {\n",
              "        vertical-align: top;\n",
              "    }\n",
              "\n",
              "    .dataframe thead th {\n",
              "        text-align: right;\n",
              "    }\n",
              "</style>\n",
              "<table border=\"1\" class=\"dataframe\">\n",
              "  <thead>\n",
              "    <tr style=\"text-align: right;\">\n",
              "      <th></th>\n",
              "      <th>Text</th>\n",
              "      <th>Difficulty</th>\n",
              "    </tr>\n",
              "  </thead>\n",
              "  <tbody>\n",
              "    <tr>\n",
              "      <th>0</th>\n",
              "      <td>Je maîtrise le fonctionnement de ce logiciel, ...</td>\n",
              "      <td>B1</td>\n",
              "    </tr>\n",
              "    <tr>\n",
              "      <th>1</th>\n",
              "      <td>Une équipe médicale mène une étude sur la ciga...</td>\n",
              "      <td>B1</td>\n",
              "    </tr>\n",
              "    <tr>\n",
              "      <th>2</th>\n",
              "      <td>Je vois bien l'intérêt de cet appareil, mais j...</td>\n",
              "      <td>B1</td>\n",
              "    </tr>\n",
              "    <tr>\n",
              "      <th>3</th>\n",
              "      <td>Ils auraient très vite envie de partir en voya...</td>\n",
              "      <td>B1</td>\n",
              "    </tr>\n",
              "    <tr>\n",
              "      <th>4</th>\n",
              "      <td>Nous somment conscients de la difficulté de l'...</td>\n",
              "      <td>B1</td>\n",
              "    </tr>\n",
              "  </tbody>\n",
              "</table>\n",
              "</div>"
            ],
            "text/plain": [
              "                                                Text Difficulty\n",
              "0  Je maîtrise le fonctionnement de ce logiciel, ...         B1\n",
              "1  Une équipe médicale mène une étude sur la ciga...         B1\n",
              "2  Je vois bien l'intérêt de cet appareil, mais j...         B1\n",
              "3  Ils auraient très vite envie de partir en voya...         B1\n",
              "4  Nous somment conscients de la difficulté de l'...         B1"
            ]
          },
          "metadata": {
            "tags": []
          },
          "execution_count": 5
        }
      ]
    },
    {
      "cell_type": "code",
      "metadata": {
        "colab": {
          "base_uri": "https://localhost:8080/"
        },
        "id": "QZJQ_JXJlotF",
        "outputId": "c40baa9f-e518-4f2e-9c3f-8af2fdb0c146"
      },
      "source": [
        "df.groupby('Difficulty').count().Text"
      ],
      "execution_count": 18,
      "outputs": [
        {
          "output_type": "execute_result",
          "data": {
            "text/plain": [
              "Difficulty\n",
              "A1    174\n",
              "A2    181\n",
              "B1    151\n",
              "B2     88\n",
              "C1    304\n",
              "C2    102\n",
              "Name: Text, dtype: int64"
            ]
          },
          "metadata": {
            "tags": []
          },
          "execution_count": 18
        }
      ]
    },
    {
      "cell_type": "code",
      "metadata": {
        "colab": {
          "base_uri": "https://localhost:8080/",
          "height": 265
        },
        "id": "FwBvZrmNk2Ly",
        "outputId": "77402d6f-307e-4583-e28d-e446944f044b"
      },
      "source": [
        "plt.plot(df.groupby('Difficulty').count().Text);"
      ],
      "execution_count": 20,
      "outputs": [
        {
          "output_type": "display_data",
          "data": {
            "image/png": "[encoded data removed]",
            "text/plain": [
              "<Figure size 432x288 with 1 Axes>"
            ]
          },
          "metadata": {
            "tags": [],
            "needs_background": "light"
          }
        }
      ]
    },
    {
      "cell_type": "code",
      "metadata": {
        "id": "i4hzf3OZm5uX"
      },
      "source": [
        "import seaborn as sns\r\n"
      ],
      "execution_count": 21,
      "outputs": []
    },
    {
      "cell_type": "code",
      "metadata": {
        "colab": {
          "base_uri": "https://localhost:8080/"
        },
        "id": "EiFMf5LLm-6w",
        "outputId": "925c17e9-ce94-45c7-fdc9-ff7b2552ab0e"
      },
      "source": [
        "df.shape"
      ],
      "execution_count": 26,
      "outputs": [
        {
          "output_type": "execute_result",
          "data": {
            "text/plain": [
              "(1000, 2)"
            ]
          },
          "metadata": {
            "tags": []
          },
          "execution_count": 26
        }
      ]
    },
    {
      "cell_type": "code",
      "metadata": {
        "colab": {
          "base_uri": "https://localhost:8080/",
          "height": 206
        },
        "id": "MsCB4ukcn1km",
        "outputId": "ebda2ff9-8c05-49ca-8dd4-329d8f169b03"
      },
      "source": [
        "df[df.duplicated() == True]"
      ],
      "execution_count": 30,
      "outputs": [
        {
          "output_type": "execute_result",
          "data": {
            "text/html": [
              "<div>\n",
              "<style scoped>\n",
              "    .dataframe tbody tr th:only-of-type {\n",
              "        vertical-align: middle;\n",
              "    }\n",
              "\n",
              "    .dataframe tbody tr th {\n",
              "        vertical-align: top;\n",
              "    }\n",
              "\n",
              "    .dataframe thead th {\n",
              "        text-align: right;\n",
              "    }\n",
              "</style>\n",
              "<table border=\"1\" class=\"dataframe\">\n",
              "  <thead>\n",
              "    <tr style=\"text-align: right;\">\n",
              "      <th></th>\n",
              "      <th>Text</th>\n",
              "      <th>Difficulty</th>\n",
              "    </tr>\n",
              "  </thead>\n",
              "  <tbody>\n",
              "    <tr>\n",
              "      <th>375</th>\n",
              "      <td>L’accident a provoqué une fuite de 15 000 tonn...</td>\n",
              "      <td>B1</td>\n",
              "    </tr>\n",
              "    <tr>\n",
              "      <th>378</th>\n",
              "      <td>L’usine appartient au groupe Norilsk Nickel, l...</td>\n",
              "      <td>A2</td>\n",
              "    </tr>\n",
              "    <tr>\n",
              "      <th>410</th>\n",
              "      <td>Mais selon les autorités, la progression des h...</td>\n",
              "      <td>A2</td>\n",
              "    </tr>\n",
              "    <tr>\n",
              "      <th>630</th>\n",
              "      <td>La prof de sciences est absente demain.</td>\n",
              "      <td>A1</td>\n",
              "    </tr>\n",
              "    <tr>\n",
              "      <th>908</th>\n",
              "      <td>Jeune retraité de l’éducation nationale, Roger...</td>\n",
              "      <td>C2</td>\n",
              "    </tr>\n",
              "  </tbody>\n",
              "</table>\n",
              "</div>"
            ],
            "text/plain": [
              "                                                  Text Difficulty\n",
              "375  L’accident a provoqué une fuite de 15 000 tonn...         B1\n",
              "378  L’usine appartient au groupe Norilsk Nickel, l...         A2\n",
              "410  Mais selon les autorités, la progression des h...         A2\n",
              "630            La prof de sciences est absente demain.         A1\n",
              "908  Jeune retraité de l’éducation nationale, Roger...         C2"
            ]
          },
          "metadata": {
            "tags": []
          },
          "execution_count": 30
        }
      ]
    },
    {
      "cell_type": "code",
      "metadata": {
        "colab": {
          "base_uri": "https://localhost:8080/"
        },
        "id": "vbJy7sfmpXE5",
        "outputId": "9c65d13f-d682-4eb3-d587-37d26481cbf6"
      },
      "source": [
        "df.Text.unique().shape"
      ],
      "execution_count": 34,
      "outputs": [
        {
          "output_type": "execute_result",
          "data": {
            "text/plain": [
              "(995,)"
            ]
          },
          "metadata": {
            "tags": []
          },
          "execution_count": 34
        }
      ]
    },
    {
      "cell_type": "code",
      "metadata": {
        "colab": {
          "base_uri": "https://localhost:8080/",
          "height": 206
        },
        "id": "LVWOaUX-p41K",
        "outputId": "4c6b27fc-c06b-424c-e47a-6b0aeac37a6f"
      },
      "source": [
        "df['Length'] = df.Text.str.len()\r\n",
        "df.head()"
      ],
      "execution_count": 36,
      "outputs": [
        {
          "output_type": "execute_result",
          "data": {
            "text/html": [
              "<div>\n",
              "<style scoped>\n",
              "    .dataframe tbody tr th:only-of-type {\n",
              "        vertical-align: middle;\n",
              "    }\n",
              "\n",
              "    .dataframe tbody tr th {\n",
              "        vertical-align: top;\n",
              "    }\n",
              "\n",
              "    .dataframe thead th {\n",
              "        text-align: right;\n",
              "    }\n",
              "</style>\n",
              "<table border=\"1\" class=\"dataframe\">\n",
              "  <thead>\n",
              "    <tr style=\"text-align: right;\">\n",
              "      <th></th>\n",
              "      <th>Text</th>\n",
              "      <th>Difficulty</th>\n",
              "      <th>Length</th>\n",
              "    </tr>\n",
              "  </thead>\n",
              "  <tbody>\n",
              "    <tr>\n",
              "      <th>0</th>\n",
              "      <td>Je maîtrise le fonctionnement de ce logiciel, ...</td>\n",
              "      <td>B1</td>\n",
              "      <td>84</td>\n",
              "    </tr>\n",
              "    <tr>\n",
              "      <th>1</th>\n",
              "      <td>Une équipe médicale mène une étude sur la ciga...</td>\n",
              "      <td>B1</td>\n",
              "      <td>104</td>\n",
              "    </tr>\n",
              "    <tr>\n",
              "      <th>2</th>\n",
              "      <td>Je vois bien l'intérêt de cet appareil, mais j...</td>\n",
              "      <td>B1</td>\n",
              "      <td>68</td>\n",
              "    </tr>\n",
              "    <tr>\n",
              "      <th>3</th>\n",
              "      <td>Ils auraient très vite envie de partir en voya...</td>\n",
              "      <td>B1</td>\n",
              "      <td>83</td>\n",
              "    </tr>\n",
              "    <tr>\n",
              "      <th>4</th>\n",
              "      <td>Nous somment conscients de la difficulté de l'...</td>\n",
              "      <td>B1</td>\n",
              "      <td>89</td>\n",
              "    </tr>\n",
              "  </tbody>\n",
              "</table>\n",
              "</div>"
            ],
            "text/plain": [
              "                                                Text Difficulty  Length\n",
              "0  Je maîtrise le fonctionnement de ce logiciel, ...         B1      84\n",
              "1  Une équipe médicale mène une étude sur la ciga...         B1     104\n",
              "2  Je vois bien l'intérêt de cet appareil, mais j...         B1      68\n",
              "3  Ils auraient très vite envie de partir en voya...         B1      83\n",
              "4  Nous somment conscients de la difficulté de l'...         B1      89"
            ]
          },
          "metadata": {
            "tags": []
          },
          "execution_count": 36
        }
      ]
    },
    {
      "cell_type": "code",
      "metadata": {
        "colab": {
          "base_uri": "https://localhost:8080/",
          "height": 279
        },
        "id": "6J6ccGHmqvZb",
        "outputId": "956e2cd5-fde5-4d39-f345-7e03b2fbac56"
      },
      "source": [
        "sns.boxplot(x='Difficulty', y='Length', data=df, order=['A1', 'A2', 'B1', 'B2', 'C1', 'C2']);"
      ],
      "execution_count": 54,
      "outputs": [
        {
          "output_type": "display_data",
          "data": {
            "image/png": "[encoded data removed]",
            "text/plain": [
              "<Figure size 432x288 with 1 Axes>"
            ]
          },
          "metadata": {
            "tags": [],
            "needs_background": "light"
          }
        }
      ]
    },
    {
      "cell_type": "code",
      "metadata": {
        "id": "_d6E38bJxEoZ"
      },
      "source": [
        "df['totalwords'] = df['Text'].str.split().str.len()"
      ],
      "execution_count": 56,
      "outputs": []
    },
    {
      "cell_type": "code",
      "metadata": {
        "colab": {
          "base_uri": "https://localhost:8080/",
          "height": 206
        },
        "id": "5xFh0KyNxfWH",
        "outputId": "03844683-da0e-4139-88a7-711719575174"
      },
      "source": [
        "df.head()"
      ],
      "execution_count": 57,
      "outputs": [
        {
          "output_type": "execute_result",
          "data": {
            "text/html": [
              "<div>\n",
              "<style scoped>\n",
              "    .dataframe tbody tr th:only-of-type {\n",
              "        vertical-align: middle;\n",
              "    }\n",
              "\n",
              "    .dataframe tbody tr th {\n",
              "        vertical-align: top;\n",
              "    }\n",
              "\n",
              "    .dataframe thead th {\n",
              "        text-align: right;\n",
              "    }\n",
              "</style>\n",
              "<table border=\"1\" class=\"dataframe\">\n",
              "  <thead>\n",
              "    <tr style=\"text-align: right;\">\n",
              "      <th></th>\n",
              "      <th>Text</th>\n",
              "      <th>Difficulty</th>\n",
              "      <th>Length</th>\n",
              "      <th>totalwords</th>\n",
              "    </tr>\n",
              "  </thead>\n",
              "  <tbody>\n",
              "    <tr>\n",
              "      <th>0</th>\n",
              "      <td>Je maîtrise le fonctionnement de ce logiciel, ...</td>\n",
              "      <td>B1</td>\n",
              "      <td>84</td>\n",
              "      <td>14</td>\n",
              "    </tr>\n",
              "    <tr>\n",
              "      <th>1</th>\n",
              "      <td>Une équipe médicale mène une étude sur la ciga...</td>\n",
              "      <td>B1</td>\n",
              "      <td>104</td>\n",
              "      <td>17</td>\n",
              "    </tr>\n",
              "    <tr>\n",
              "      <th>2</th>\n",
              "      <td>Je vois bien l'intérêt de cet appareil, mais j...</td>\n",
              "      <td>B1</td>\n",
              "      <td>68</td>\n",
              "      <td>13</td>\n",
              "    </tr>\n",
              "    <tr>\n",
              "      <th>3</th>\n",
              "      <td>Ils auraient très vite envie de partir en voya...</td>\n",
              "      <td>B1</td>\n",
              "      <td>83</td>\n",
              "      <td>16</td>\n",
              "    </tr>\n",
              "    <tr>\n",
              "      <th>4</th>\n",
              "      <td>Nous somment conscients de la difficulté de l'...</td>\n",
              "      <td>B1</td>\n",
              "      <td>89</td>\n",
              "      <td>14</td>\n",
              "    </tr>\n",
              "  </tbody>\n",
              "</table>\n",
              "</div>"
            ],
            "text/plain": [
              "                                                Text  ... totalwords\n",
              "0  Je maîtrise le fonctionnement de ce logiciel, ...  ...         14\n",
              "1  Une équipe médicale mène une étude sur la ciga...  ...         17\n",
              "2  Je vois bien l'intérêt de cet appareil, mais j...  ...         13\n",
              "3  Ils auraient très vite envie de partir en voya...  ...         16\n",
              "4  Nous somment conscients de la difficulté de l'...  ...         14\n",
              "\n",
              "[5 rows x 4 columns]"
            ]
          },
          "metadata": {
            "tags": []
          },
          "execution_count": 57
        }
      ]
    },
    {
      "cell_type": "code",
      "metadata": {
        "colab": {
          "base_uri": "https://localhost:8080/",
          "height": 279
        },
        "id": "4YrSN4m2xh3w",
        "outputId": "8d234fff-5157-4323-c66b-b33c94d093aa"
      },
      "source": [
        "sns.boxplot(x='Difficulty', y='totalwords', data=df, order=['A1', 'A2', 'B1', 'B2', 'C1', 'C2']);"
      ],
      "execution_count": 58,
      "outputs": [
        {
          "output_type": "display_data",
          "data": {
            "image/png": "[encoded data removed]",
            "text/plain": [
              "<Figure size 432x288 with 1 Axes>"
            ]
          },
          "metadata": {
            "tags": [],
            "needs_background": "light"
          }
        }
      ]
    }
  ]
}